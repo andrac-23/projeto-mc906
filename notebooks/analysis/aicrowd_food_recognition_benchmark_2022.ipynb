{
 "cells": [
  {
   "cell_type": "code",
   "execution_count": 28,
   "metadata": {},
   "outputs": [],
   "source": [
    "import polars as pl\n",
    "import json\n",
    "from pathlib import Path\n",
    "from collections import defaultdict\n",
    "import matplotlib.pyplot as plt\n",
    "import numpy as np\n",
    "from functools import reduce"
   ]
  },
  {
   "cell_type": "code",
   "execution_count": 8,
   "metadata": {},
   "outputs": [],
   "source": [
    "path_dataset = Path('../../datasets/aicrowd_food_recognition_benchmark_2022').resolve()\n",
    "path_labels = path_dataset / 'labels'"
   ]
  },
  {
   "cell_type": "code",
   "execution_count": 4,
   "metadata": {},
   "outputs": [
    {
     "name": "stdout",
     "output_type": "stream",
     "text": [
      "Summary:\n",
      "categories: 498\n",
      "info: 2\n",
      "images: 39962\n",
      "annotations: 76491\n"
     ]
    }
   ],
   "source": [
    "annotations = json.loads((path_labels / 'train' / 'annotations.json').read_text())\n",
    "print('Summary:')\n",
    "for key, values in annotations.items():\n",
    "    print(f'{key}: {len(values)}')"
   ]
  },
  {
   "cell_type": "code",
   "execution_count": 17,
   "metadata": {},
   "outputs": [],
   "source": [
    "categories = annotations['categories']\n",
    "category_names = [c['name'] for c in categories]\n",
    "category_id_to_name = {c['id']: c['name'] for c in categories}"
   ]
  },
  {
   "cell_type": "code",
   "execution_count": 9,
   "metadata": {},
   "outputs": [],
   "source": [
    "if False:\n",
    "    with (path_dataset / 'categories.txt').open('w') as file:\n",
    "        file.write('\\n'.join(map(lambda x: f'{x[0]}: {x[1]}', enumerate(category_names))))"
   ]
  },
  {
   "cell_type": "markdown",
   "metadata": {},
   "source": [
    "### Top 10 categories with the most images"
   ]
  },
  {
   "cell_type": "code",
   "execution_count": 23,
   "metadata": {},
   "outputs": [
    {
     "data": {
      "text/html": [
       "<div><style>\n",
       ".dataframe > thead > tr,\n",
       ".dataframe > tbody > tr {\n",
       "  text-align: right;\n",
       "  white-space: pre-wrap;\n",
       "}\n",
       "</style>\n",
       "<small>shape: (10, 3)</small><table border=\"1\" class=\"dataframe\"><thead><tr><th>id</th><th>name</th><th>count</th></tr><tr><td>i64</td><td>str</td><td>i64</td></tr></thead><tbody><tr><td>2578</td><td>&quot;water&quot;</td><td>2928</td></tr><tr><td>1040</td><td>&quot;salad-leaf-salad-green&quot;</td><td>2002</td></tr><tr><td>1566</td><td>&quot;bread-white&quot;</td><td>1891</td></tr><tr><td>1069</td><td>&quot;tomato-raw&quot;</td><td>1865</td></tr><tr><td>2053</td><td>&quot;butter&quot;</td><td>1601</td></tr><tr><td>1078</td><td>&quot;carrot-raw&quot;</td><td>1482</td></tr><tr><td>1565</td><td>&quot;bread-wholemeal&quot;</td><td>1452</td></tr><tr><td>2512</td><td>&quot;coffee-with-caffeine&quot;</td><td>1406</td></tr><tr><td>1468</td><td>&quot;rice&quot;</td><td>1024</td></tr><tr><td>2022</td><td>&quot;egg&quot;</td><td>1015</td></tr></tbody></table></div>"
      ],
      "text/plain": [
       "shape: (10, 3)\n",
       "┌──────┬────────────────────────┬───────┐\n",
       "│ id   ┆ name                   ┆ count │\n",
       "│ ---  ┆ ---                    ┆ ---   │\n",
       "│ i64  ┆ str                    ┆ i64   │\n",
       "╞══════╪════════════════════════╪═══════╡\n",
       "│ 2578 ┆ water                  ┆ 2928  │\n",
       "│ 1040 ┆ salad-leaf-salad-green ┆ 2002  │\n",
       "│ 1566 ┆ bread-white            ┆ 1891  │\n",
       "│ 1069 ┆ tomato-raw             ┆ 1865  │\n",
       "│ 2053 ┆ butter                 ┆ 1601  │\n",
       "│ 1078 ┆ carrot-raw             ┆ 1482  │\n",
       "│ 1565 ┆ bread-wholemeal        ┆ 1452  │\n",
       "│ 2512 ┆ coffee-with-caffeine   ┆ 1406  │\n",
       "│ 1468 ┆ rice                   ┆ 1024  │\n",
       "│ 2022 ┆ egg                    ┆ 1015  │\n",
       "└──────┴────────────────────────┴───────┘"
      ]
     },
     "execution_count": 23,
     "metadata": {},
     "output_type": "execute_result"
    }
   ],
   "source": [
    "category_images = defaultdict(lambda: set())\n",
    "for anno in annotations['annotations']:\n",
    "    category_images[anno['category_id']].add(anno['image_id'])\n",
    "df = pl.DataFrame({\n",
    "    'id': category_images.keys(),\n",
    "    'name': [category_id_to_name[id_] for id_ in category_images.keys()],\n",
    "    'count': [len(category_images[id_]) for id_ in category_images.keys()],\n",
    "})\n",
    "df.sort('count', descending=True).head(10)"
   ]
  },
  {
   "cell_type": "code",
   "execution_count": 34,
   "metadata": {},
   "outputs": [],
   "source": [
    "categories_filtered = list(df.sort('count', descending=True).head(10)['id'])\n",
    "images_filtered = reduce(lambda a, b: a.union(b), [images for k, images in category_images.items() if k in categories_filtered])"
   ]
  },
  {
   "cell_type": "code",
   "execution_count": 35,
   "metadata": {},
   "outputs": [
    {
     "name": "stdout",
     "output_type": "stream",
     "text": [
      "Summary:\n",
      "categories: 10\n",
      "images: 14055\n",
      "info: 0\n",
      "annotations: 34702\n"
     ]
    }
   ],
   "source": [
    "annotations_filtered = {\n",
    "    'categories': [c for c in categories if c['id'] in categories_filtered],\n",
    "    'images': [im for im in annotations['images'] if im['id'] in images_filtered],\n",
    "    'info': {},\n",
    "    'annotations': [anno for anno in annotations['annotations'] if anno['image_id'] in images_filtered],\n",
    "}\n",
    "print('Summary:')\n",
    "for key, values in annotations_filtered.items():\n",
    "    print(f'{key}: {len(values)}')"
   ]
  },
  {
   "cell_type": "code",
   "execution_count": 37,
   "metadata": {},
   "outputs": [],
   "source": [
    "if False:\n",
    "    with (path_dataset.parent / 'aicrowd_food_recognition_benchmark_2022_reduced' / 'labels' / 'train' / 'annotations.json').open('w') as file:\n",
    "        json.dump(annotations_filtered, file)"
   ]
  },
  {
   "cell_type": "code",
   "execution_count": null,
   "metadata": {},
   "outputs": [],
   "source": [
    "# TODO:\n",
    "# annotations of validation\n",
    "# copy images\n",
    "# test training"
   ]
  }
 ],
 "metadata": {
  "kernelspec": {
   "display_name": "mc906",
   "language": "python",
   "name": "python3"
  },
  "language_info": {
   "codemirror_mode": {
    "name": "ipython",
    "version": 3
   },
   "file_extension": ".py",
   "mimetype": "text/x-python",
   "name": "python",
   "nbconvert_exporter": "python",
   "pygments_lexer": "ipython3",
   "version": "3.12.3"
  }
 },
 "nbformat": 4,
 "nbformat_minor": 2
}
