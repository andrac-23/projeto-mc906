{
 "cells": [
  {
   "cell_type": "markdown",
   "metadata": {},
   "source": [
    "### Deixar essa linha rodando logo abaixo do treinamento\n"
   ]
  },
  {
   "cell_type": "code",
   "execution_count": null,
   "metadata": {},
   "outputs": [],
   "source": [
    "import shutil\n",
    "import os\n",
    "\n",
    "# Caminho da pasta que você deseja compactar\n",
    "folder_to_zip = 'path da pasta geralmente (ex: /content/runs)'\n",
    "output_filename = 'nome do zip que vai ser baixado (ex: runs_v2_M.zip)'\n",
    "\n",
    "# Compacta a pasta em um arquivo ZIP\n",
    "shutil.make_archive(output_filename.replace('.zip', ''), 'zip', folder_to_zip)\n",
    "\n",
    "# Importa a função de download do google.colab\n",
    "from google.colab import files\n",
    "\n",
    "# Faz o download do arquivo ZIP para o seu computador\n",
    "files.download(output_filename)"
   ]
  }
 ],
 "metadata": {
  "language_info": {
   "name": "python"
  }
 },
 "nbformat": 4,
 "nbformat_minor": 2
}
